{
  "nbformat": 4,
  "nbformat_minor": 0,
  "metadata": {
    "colab": {
      "provenance": []
    },
    "kernelspec": {
      "name": "python3",
      "display_name": "Python 3"
    },
    "language_info": {
      "name": "python"
    }
  },
  "cells": [
    {
      "cell_type": "code",
      "execution_count": 1,
      "metadata": {
        "id": "ugra7cIkUL1a"
      },
      "outputs": [],
      "source": [
        "import requests as req\n",
        "from bs4 import BeautifulSoup as bs4\n",
        "import pandas as pd"
      ]
    },
    {
      "cell_type": "code",
      "source": [
        "url = \"https://id.wikipedia.org/wiki/150_Lagu_Indonesia_Terbaik\"\n",
        "response = req.get(url)"
      ],
      "metadata": {
        "id": "5rMdBqdtUaRe"
      },
      "execution_count": 2,
      "outputs": []
    },
    {
      "cell_type": "code",
      "source": [
        "soup = bs4(response.text, \"html.parser\")"
      ],
      "metadata": {
        "id": "ip93tw88UdNQ"
      },
      "execution_count": 3,
      "outputs": []
    },
    {
      "cell_type": "code",
      "source": [
        "table = soup.find(\"table\", class_=\"wikitable sortable\")"
      ],
      "metadata": {
        "id": "69EOZEvsUfo1"
      },
      "execution_count": 4,
      "outputs": []
    },
    {
      "cell_type": "code",
      "source": [
        "headers = [th.text.strip() for th in table.find_all(\"th\")]"
      ],
      "metadata": {
        "id": "5rY_n95UUiXb"
      },
      "execution_count": 5,
      "outputs": []
    },
    {
      "cell_type": "code",
      "source": [
        "rows = []\n",
        "for row in table.find_all(\"tr\"):\n",
        "    cells = [td.text.strip() for td in row.find_all(\"td\")]\n",
        "    if cells:\n",
        "        rows.append(cells)"
      ],
      "metadata": {
        "id": "84eEaUQfUmhS"
      },
      "execution_count": 6,
      "outputs": []
    },
    {
      "cell_type": "code",
      "source": [
        "df = pd.DataFrame(rows, columns=headers)"
      ],
      "metadata": {
        "id": "xg-rdTcKUpmu"
      },
      "execution_count": 7,
      "outputs": []
    },
    {
      "cell_type": "code",
      "source": [
        "df"
      ],
      "metadata": {
        "colab": {
          "base_uri": "https://localhost:8080/",
          "height": 423
        },
        "id": "j_2ZyjfEUtRw",
        "outputId": "f2575e4f-8dfc-4c6a-f07e-25527ef0bd76"
      },
      "execution_count": 8,
      "outputs": [
        {
          "output_type": "execute_result",
          "data": {
            "text/plain": [
              "       #                   Lagu             Artis Tahun  \\\n",
              "0      1                Bongkar             Swami  1989   \n",
              "1      2          Kebyar Kebyar           Gombloh  1979   \n",
              "2      3    Badai Pasti Berlalu  Berlian Hutauruk  1977   \n",
              "3      4            Bis Sekolah   Koes Bersaudara  1964   \n",
              "4      5      Guru Oemar Bakrie         Iwan Fals  1981   \n",
              "..   ...                    ...               ...   ...   \n",
              "145  146          Jari & Jempol      Dedy Stanzah  1978   \n",
              "146  147  Melompat Lebih Tinggi       Sheila On 7  2003   \n",
              "147  148           Langkah Peri  Cherry Bombshell  1997   \n",
              "148  149                  Matel             Kubik  1997   \n",
              "149  150      Me & My Boyfriend             Mocca  2003   \n",
              "\n",
              "                            Genre  \n",
              "0                            Rock  \n",
              "1                            Rock  \n",
              "2                            Soul  \n",
              "3                   Rock and roll  \n",
              "4                         Country  \n",
              "..                            ...  \n",
              "145                    Dance-rock  \n",
              "146  Alternative rock, indie rock  \n",
              "147  Alternative rock, indie rock  \n",
              "148  Alternative rock, indie rock  \n",
              "149                    Indie rock  \n",
              "\n",
              "[150 rows x 5 columns]"
            ],
            "text/html": [
              "\n",
              "  <div id=\"df-8f2a6f53-f261-411e-bab3-dba3f72cc8c6\">\n",
              "    <div class=\"colab-df-container\">\n",
              "      <div>\n",
              "<style scoped>\n",
              "    .dataframe tbody tr th:only-of-type {\n",
              "        vertical-align: middle;\n",
              "    }\n",
              "\n",
              "    .dataframe tbody tr th {\n",
              "        vertical-align: top;\n",
              "    }\n",
              "\n",
              "    .dataframe thead th {\n",
              "        text-align: right;\n",
              "    }\n",
              "</style>\n",
              "<table border=\"1\" class=\"dataframe\">\n",
              "  <thead>\n",
              "    <tr style=\"text-align: right;\">\n",
              "      <th></th>\n",
              "      <th>#</th>\n",
              "      <th>Lagu</th>\n",
              "      <th>Artis</th>\n",
              "      <th>Tahun</th>\n",
              "      <th>Genre</th>\n",
              "    </tr>\n",
              "  </thead>\n",
              "  <tbody>\n",
              "    <tr>\n",
              "      <th>0</th>\n",
              "      <td>1</td>\n",
              "      <td>Bongkar</td>\n",
              "      <td>Swami</td>\n",
              "      <td>1989</td>\n",
              "      <td>Rock</td>\n",
              "    </tr>\n",
              "    <tr>\n",
              "      <th>1</th>\n",
              "      <td>2</td>\n",
              "      <td>Kebyar Kebyar</td>\n",
              "      <td>Gombloh</td>\n",
              "      <td>1979</td>\n",
              "      <td>Rock</td>\n",
              "    </tr>\n",
              "    <tr>\n",
              "      <th>2</th>\n",
              "      <td>3</td>\n",
              "      <td>Badai Pasti Berlalu</td>\n",
              "      <td>Berlian Hutauruk</td>\n",
              "      <td>1977</td>\n",
              "      <td>Soul</td>\n",
              "    </tr>\n",
              "    <tr>\n",
              "      <th>3</th>\n",
              "      <td>4</td>\n",
              "      <td>Bis Sekolah</td>\n",
              "      <td>Koes Bersaudara</td>\n",
              "      <td>1964</td>\n",
              "      <td>Rock and roll</td>\n",
              "    </tr>\n",
              "    <tr>\n",
              "      <th>4</th>\n",
              "      <td>5</td>\n",
              "      <td>Guru Oemar Bakrie</td>\n",
              "      <td>Iwan Fals</td>\n",
              "      <td>1981</td>\n",
              "      <td>Country</td>\n",
              "    </tr>\n",
              "    <tr>\n",
              "      <th>...</th>\n",
              "      <td>...</td>\n",
              "      <td>...</td>\n",
              "      <td>...</td>\n",
              "      <td>...</td>\n",
              "      <td>...</td>\n",
              "    </tr>\n",
              "    <tr>\n",
              "      <th>145</th>\n",
              "      <td>146</td>\n",
              "      <td>Jari &amp; Jempol</td>\n",
              "      <td>Dedy Stanzah</td>\n",
              "      <td>1978</td>\n",
              "      <td>Dance-rock</td>\n",
              "    </tr>\n",
              "    <tr>\n",
              "      <th>146</th>\n",
              "      <td>147</td>\n",
              "      <td>Melompat Lebih Tinggi</td>\n",
              "      <td>Sheila On 7</td>\n",
              "      <td>2003</td>\n",
              "      <td>Alternative rock, indie rock</td>\n",
              "    </tr>\n",
              "    <tr>\n",
              "      <th>147</th>\n",
              "      <td>148</td>\n",
              "      <td>Langkah Peri</td>\n",
              "      <td>Cherry Bombshell</td>\n",
              "      <td>1997</td>\n",
              "      <td>Alternative rock, indie rock</td>\n",
              "    </tr>\n",
              "    <tr>\n",
              "      <th>148</th>\n",
              "      <td>149</td>\n",
              "      <td>Matel</td>\n",
              "      <td>Kubik</td>\n",
              "      <td>1997</td>\n",
              "      <td>Alternative rock, indie rock</td>\n",
              "    </tr>\n",
              "    <tr>\n",
              "      <th>149</th>\n",
              "      <td>150</td>\n",
              "      <td>Me &amp; My Boyfriend</td>\n",
              "      <td>Mocca</td>\n",
              "      <td>2003</td>\n",
              "      <td>Indie rock</td>\n",
              "    </tr>\n",
              "  </tbody>\n",
              "</table>\n",
              "<p>150 rows × 5 columns</p>\n",
              "</div>\n",
              "      <button class=\"colab-df-convert\" onclick=\"convertToInteractive('df-8f2a6f53-f261-411e-bab3-dba3f72cc8c6')\"\n",
              "              title=\"Convert this dataframe to an interactive table.\"\n",
              "              style=\"display:none;\">\n",
              "        \n",
              "  <svg xmlns=\"http://www.w3.org/2000/svg\" height=\"24px\"viewBox=\"0 0 24 24\"\n",
              "       width=\"24px\">\n",
              "    <path d=\"M0 0h24v24H0V0z\" fill=\"none\"/>\n",
              "    <path d=\"M18.56 5.44l.94 2.06.94-2.06 2.06-.94-2.06-.94-.94-2.06-.94 2.06-2.06.94zm-11 1L8.5 8.5l.94-2.06 2.06-.94-2.06-.94L8.5 2.5l-.94 2.06-2.06.94zm10 10l.94 2.06.94-2.06 2.06-.94-2.06-.94-.94-2.06-.94 2.06-2.06.94z\"/><path d=\"M17.41 7.96l-1.37-1.37c-.4-.4-.92-.59-1.43-.59-.52 0-1.04.2-1.43.59L10.3 9.45l-7.72 7.72c-.78.78-.78 2.05 0 2.83L4 21.41c.39.39.9.59 1.41.59.51 0 1.02-.2 1.41-.59l7.78-7.78 2.81-2.81c.8-.78.8-2.07 0-2.86zM5.41 20L4 18.59l7.72-7.72 1.47 1.35L5.41 20z\"/>\n",
              "  </svg>\n",
              "      </button>\n",
              "      \n",
              "  <style>\n",
              "    .colab-df-container {\n",
              "      display:flex;\n",
              "      flex-wrap:wrap;\n",
              "      gap: 12px;\n",
              "    }\n",
              "\n",
              "    .colab-df-convert {\n",
              "      background-color: #E8F0FE;\n",
              "      border: none;\n",
              "      border-radius: 50%;\n",
              "      cursor: pointer;\n",
              "      display: none;\n",
              "      fill: #1967D2;\n",
              "      height: 32px;\n",
              "      padding: 0 0 0 0;\n",
              "      width: 32px;\n",
              "    }\n",
              "\n",
              "    .colab-df-convert:hover {\n",
              "      background-color: #E2EBFA;\n",
              "      box-shadow: 0px 1px 2px rgba(60, 64, 67, 0.3), 0px 1px 3px 1px rgba(60, 64, 67, 0.15);\n",
              "      fill: #174EA6;\n",
              "    }\n",
              "\n",
              "    [theme=dark] .colab-df-convert {\n",
              "      background-color: #3B4455;\n",
              "      fill: #D2E3FC;\n",
              "    }\n",
              "\n",
              "    [theme=dark] .colab-df-convert:hover {\n",
              "      background-color: #434B5C;\n",
              "      box-shadow: 0px 1px 3px 1px rgba(0, 0, 0, 0.15);\n",
              "      filter: drop-shadow(0px 1px 2px rgba(0, 0, 0, 0.3));\n",
              "      fill: #FFFFFF;\n",
              "    }\n",
              "  </style>\n",
              "\n",
              "      <script>\n",
              "        const buttonEl =\n",
              "          document.querySelector('#df-8f2a6f53-f261-411e-bab3-dba3f72cc8c6 button.colab-df-convert');\n",
              "        buttonEl.style.display =\n",
              "          google.colab.kernel.accessAllowed ? 'block' : 'none';\n",
              "\n",
              "        async function convertToInteractive(key) {\n",
              "          const element = document.querySelector('#df-8f2a6f53-f261-411e-bab3-dba3f72cc8c6');\n",
              "          const dataTable =\n",
              "            await google.colab.kernel.invokeFunction('convertToInteractive',\n",
              "                                                     [key], {});\n",
              "          if (!dataTable) return;\n",
              "\n",
              "          const docLinkHtml = 'Like what you see? Visit the ' +\n",
              "            '<a target=\"_blank\" href=https://colab.research.google.com/notebooks/data_table.ipynb>data table notebook</a>'\n",
              "            + ' to learn more about interactive tables.';\n",
              "          element.innerHTML = '';\n",
              "          dataTable['output_type'] = 'display_data';\n",
              "          await google.colab.output.renderOutput(dataTable, element);\n",
              "          const docLink = document.createElement('div');\n",
              "          docLink.innerHTML = docLinkHtml;\n",
              "          element.appendChild(docLink);\n",
              "        }\n",
              "      </script>\n",
              "    </div>\n",
              "  </div>\n",
              "  "
            ]
          },
          "metadata": {},
          "execution_count": 8
        }
      ]
    },
    {
      "cell_type": "code",
      "source": [
        "df.to_excel(\"150_lagu_indonesia_terbaik.xlsx\", index=False)"
      ],
      "metadata": {
        "id": "ZfXTKTKYUwzU"
      },
      "execution_count": 9,
      "outputs": []
    }
  ]
}