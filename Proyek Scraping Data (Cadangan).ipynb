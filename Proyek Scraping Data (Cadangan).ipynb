{
  "nbformat": 4,
  "nbformat_minor": 0,
  "metadata": {
    "colab": {
      "provenance": []
    },
    "kernelspec": {
      "name": "python3",
      "display_name": "Python 3"
    },
    "language_info": {
      "name": "python"
    }
  },
  "cells": [
    {
      "cell_type": "code",
      "execution_count": 1,
      "metadata": {
        "id": "XPfi4sHFqVim"
      },
      "outputs": [],
      "source": [
        "import requests\n",
        "from bs4 import BeautifulSoup\n",
        "import csv\n",
        "import openpyxl\n"
      ]
    },
    {
      "cell_type": "code",
      "source": [
        "# Send a GET request to the webpage\n",
        "url = 'https://id.wikipedia.org/wiki/150_Lagu_Indonesia_Terbaik'\n",
        "response = requests.get(url)"
      ],
      "metadata": {
        "id": "lqzUfdfOqgUp"
      },
      "execution_count": 2,
      "outputs": []
    },
    {
      "cell_type": "code",
      "source": [
        "# Create BeautifulSoup object and find the table containing the data\n",
        "soup = BeautifulSoup(response.text, 'html.parser')\n",
        "table = soup.find('table', class_='wikitable sortable')"
      ],
      "metadata": {
        "id": "z6ana51gqkJX"
      },
      "execution_count": 3,
      "outputs": []
    },
    {
      "cell_type": "code",
      "source": [
        "# Extract data from each row in the table\n",
        "rows = table.find_all('tr')\n",
        "data = []\n",
        "for row in rows[1:]:  # Exclude the header row\n",
        "    cells = row.find_all('td')\n",
        "    if len(cells) >= 4:  # Ensure the row has enough cells\n",
        "        lagu = cells[0].text.strip()\n",
        "        artis = cells[1].text.strip()\n",
        "        tahun = cells[2].text.strip()\n",
        "        genre = cells[3].text.strip()\n",
        "\n",
        "        data.append([lagu, artis, tahun, genre])"
      ],
      "metadata": {
        "id": "auGQzz3pqnFZ"
      },
      "execution_count": 4,
      "outputs": []
    },
    {
      "cell_type": "code",
      "source": [
        "# Save data to a CSV file\n",
        "csv_file = '150_lagu_indonesia_terbaik.csv'\n",
        "with open(csv_file, 'w', newline='', encoding='utf-8') as file:\n",
        "    writer = csv.writer(file)\n",
        "    writer.writerow(['Lagu', 'Artis', 'Tahun', 'Genre'])\n",
        "    writer.writerows(data)"
      ],
      "metadata": {
        "id": "1MqCkdtdqrJ2"
      },
      "execution_count": 5,
      "outputs": []
    },
    {
      "cell_type": "code",
      "source": [
        "# Convert CSV to XLSX\n",
        "xlsx_file = '150_lagu_indonesia_terbaik.xlsx'\n",
        "workbook = openpyxl.Workbook()\n",
        "sheet = workbook.active\n",
        "\n",
        "with open(csv_file, 'r', encoding='utf-8') as file:\n",
        "    reader = csv.reader(file)\n",
        "    for row in reader:\n",
        "        sheet.append(row)"
      ],
      "metadata": {
        "id": "5E1jKT9PqtjP"
      },
      "execution_count": 6,
      "outputs": []
    },
    {
      "cell_type": "code",
      "source": [
        "workbook.save(xlsx_file)"
      ],
      "metadata": {
        "id": "IEj_9pEJqxe8"
      },
      "execution_count": 7,
      "outputs": []
    }
  ]
}